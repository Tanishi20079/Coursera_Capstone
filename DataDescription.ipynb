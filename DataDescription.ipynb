{
  "nbformat": 4,
  "nbformat_minor": 0,
  "metadata": {
    "colab": {
      "name": "DataDescription",
      "provenance": [],
      "authorship_tag": "ABX9TyMoLuroMOQMrehc2A/jyyxh"
    },
    "kernelspec": {
      "name": "python3",
      "display_name": "Python 3"
    },
    "language_info": {
      "name": "python"
    }
  },
  "cells": [
    {
      "cell_type": "markdown",
      "metadata": {
        "id": "Irs6XNqu6wDz"
      },
      "source": [
        "# **The Battle of Neighborhoods-Data Description**\n",
        "\n",
        "**Data Description**\n",
        "\n",
        "Data Link- https://en.wikipedia.org/wiki/List_of_postal_codes_of_Canada:_M\n",
        "\n",
        "Using Scarborough dataset on which we webscrapped from wikipedia in Week 3 Assignment. Dataset consisting of latitude and longitude, zip codes.\n",
        "\n",
        "\n",
        "**Foursquare API Data:**\n",
        "\n",
        "Foursquare is a location data provider with information about all manner of venues and events within an area of interest.\n",
        "We need data of different venues in different neighborhoods at specific borough. In order to gain that information, we use \"Foursquare\" locational data.Such information includes venue names, locations, menus and even photos. As such, the foursquare location platform used as the sole data source since all the stated required information can be obtained through the API.\n",
        "\n",
        "After finding the list of neighborhoods, we then connect to the Foursquare API to gather information about venues inside every neighborhood. For each neighborhood, we have chosen the radius of 100 meter.\n",
        "\n",
        "The data retrieved from Foursquare contained information about venues within a specified distance of the longitude and latitude of postcodes. The information obtained per venue are-\n",
        "\n",
        "* Neighborhood\n",
        "* Neighborhood Latitude\n",
        "* Neighborhood Longitude\n",
        "* Venue\n",
        "* Name of the venue e.g. the name of a store or restaurant\n",
        "* Venue Latitude\n",
        "* Venue Longitude\n",
        "* Venue Category\n"
      ]
    }
  ]
}