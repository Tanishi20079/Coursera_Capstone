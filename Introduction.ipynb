{
  "nbformat": 4,
  "nbformat_minor": 0,
  "metadata": {
    "colab": {
      "name": "Introduction",
      "provenance": [],
      "authorship_tag": "ABX9TyNgBok8XXpZkylnGUFb/MWo"
    },
    "kernelspec": {
      "name": "python3",
      "display_name": "Python 3"
    },
    "language_info": {
      "name": "python"
    }
  },
  "cells": [
    {
      "cell_type": "markdown",
      "metadata": {
        "id": "AMiZDedaBJzZ"
      },
      "source": [
        "# **The Battle of Neighborhoods- Business Proposal/Introduction**\n",
        "### **Introduction**\n",
        "The purpose of this capstone project is to help people to explore better facilities around their neighborhood. It will help people making smart and efficient decision on selecting great neighborhood out of numbers of other neighborhoods in Scarborough, Toronto.\n",
        "\n",
        "Lots of people are migrate to various states of Canada and needed lots of research for good housing prices and reputated schools for their children. This project is for those people who are looking for better neighborhoods.This projects also helps ease of accessing to medical shops, grocery shops, malls, theatre, hospital, like minded people, cafe, school, super market, etc. Also helps to know the famous venue nearby the location.\n",
        "\n",
        "This project aims to create an analysis of features for a people migrating to Scarborough to search a best neighborhood as a comparative analysis between neighborhoods. The features includes better school and median housing price according to ratings, crime rates of that particular area, road connectivity, weather conditions, good management for emergency, water resources both fresh and waste water and faeces conveyed in sewers and recreational facilities.\n",
        "\n",
        "It will help people to get awareness of the area and neighborhood before switching to a new city, state, country or place for their work or for starting a new life.\n",
        "\n",
        "### **Problem Statment**\n",
        "The major purpose of this project is to suggest a best neighborhood in a new city for the person who are shifting at that place. Social presence in society in terms of like minded people. Connectivity to the airport, bus stand, city center, markets and other daily needs things nearby.\n",
        "\n",
        "* Sorted list of house in terms of housing prices in a ascending or descending order\n",
        "* Sorted list of schools in terms of location, fees, rating and reviews\n",
        "\n",
        "### **About the location**\n",
        "Scarborough is a popular destination for new immigrants in Canada to reside. As a result, it is one of the most diverse and multicultural areas in the Greater Toronto Area, being home to various religious groups and places of worship. Although immigration has become a hot topic over the past few years with more governments seeking more restrictions on immigrants and refugees, the general trend of immigration into Canada has been one of on the rise.\n",
        "\n",
        "### **About the API used- Foursquare API**\n",
        "This project would use Four-square API as its prime data gathering source as it has a database of millions of places, especially their places API which provides the ability to perform location search, location sharing and details about a business.\n",
        "\n",
        "### **Work Flow**\n",
        "Using credentials of Foursquare API features of near-by places of the neighborhoods would be mined. Due to http request limitations the number of places per neighborhood parameter would reasonably be set to 100 and the radius parameter would be set to 500.\n",
        "\n",
        "### **Approach used- Clustering Neighborhoods**\n",
        "To compare the similarities of two cities, we decided to explore neighborhoods, segment them, and group them into clusters to find similar neighborhoods in a big city like New York and Toronto. To be able to do that, we need to cluster data which is a form of unsupervised machine learning: k-means clustering algorithm\n",
        "\n",
        "### **Libraries used in the Project**\n",
        "* Pandas: For creating and manipulating dataframes\n",
        "* Folium: Python visualization library would be used to visualize the neighborhoods cluster distribution of using interactive leaflet map\n",
        "* Sklearn Learn: For importing k-means clustering\n",
        "* JSON: Library to handle JSON files\n",
        "* Geocoder: To retrieve Location Data\n",
        "* Beautiful Soup and Requests: To scrap and library to handle http requests\n",
        "* Matplotlib: Python Plotting Module\n",
        "* Requests: library to handle requests\n",
        "\n"
      ]
    },
    {
      "cell_type": "code",
      "metadata": {
        "id": "89aSru9lA0R0"
      },
      "source": [
        ""
      ],
      "execution_count": null,
      "outputs": []
    }
  ]
}